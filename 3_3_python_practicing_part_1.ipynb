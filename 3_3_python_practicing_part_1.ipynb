{
  "nbformat": 4,
  "nbformat_minor": 0,
  "metadata": {
    "colab": {
      "provenance": [],
      "toc_visible": true,
      "collapsed_sections": [
        "9ZcUC4jgs33A",
        "4XS6Now8s8nW"
      ]
    },
    "kernelspec": {
      "name": "python3",
      "display_name": "Python 3"
    },
    "language_info": {
      "name": "python"
    }
  },
  "cells": [
    {
      "cell_type": "markdown",
      "source": [
        "# 3.3 Python Practicing - Part 1"
      ],
      "metadata": {
        "id": "pXcs-NwHezDP"
      }
    },
    {
      "cell_type": "markdown",
      "source": [
        "## 3.3a Creating Variables"
      ],
      "metadata": {
        "id": "6Ywu-k3vfJue"
      }
    },
    {
      "cell_type": "markdown",
      "source": [
        " In Python, we can store values in variables, similar to how we use spreadsheet cells\n",
        "\n",
        "Variables are case-sensitive: 'Revenue' and 'revenue' are different variables\n",
        "\n",
        "Variable names cannot start with numbers and can't contain spaces"
      ],
      "metadata": {
        "id": "4aocg696rRcO"
      }
    },
    {
      "cell_type": "markdown",
      "source": [
        "### Example: Storing financial values"
      ],
      "metadata": {
        "id": "aSki68C5gd_-"
      }
    },
    {
      "cell_type": "code",
      "source": [
        "revenue = 1000    # Store the revenue amount (like cell A1 in Excel)\n",
        "costs = 600      # Store the costs amount (like cell A2 in Excel)"
      ],
      "metadata": {
        "id": "ntgmvaJtsu8g"
      },
      "execution_count": null,
      "outputs": []
    },
    {
      "cell_type": "markdown",
      "source": [
        "### Guideline: Good variable names are descriptiv"
      ],
      "metadata": {
        "id": "frJ13olG0QOj"
      }
    },
    {
      "cell_type": "code",
      "source": [
        "monthly_revenue = 5000        # Clear what this represents\n",
        "mr = 5000                    # Not clear - avoid abbreviations like this"
      ],
      "metadata": {
        "id": "2Fe9SBbB0d43"
      },
      "execution_count": null,
      "outputs": []
    },
    {
      "cell_type": "markdown",
      "source": [
        "### Once a cell with variable definition is run, the variable is available in other cells."
      ],
      "metadata": {
        "id": "eW8WC1xp0jbR"
      }
    },
    {
      "cell_type": "code",
      "source": [
        "mr/2\n",
        "monthly_revenue/2\n",
        "revenue * costs"
      ],
      "metadata": {
        "colab": {
          "base_uri": "https://localhost:8080/"
        },
        "id": "W255Pw9k0wYj",
        "outputId": "977b2d25-df61-4ea3-b5ab-a9b745dcc77f"
      },
      "execution_count": null,
      "outputs": [
        {
          "output_type": "execute_result",
          "data": {
            "text/plain": [
              "600000"
            ]
          },
          "metadata": {},
          "execution_count": 5
        }
      ]
    },
    {
      "cell_type": "markdown",
      "source": [
        "## 3.3b Basic Mathematical Operations"
      ],
      "metadata": {
        "id": "0zMqJlLGfVEp"
      }
    },
    {
      "cell_type": "markdown",
      "source": [
        "Python can perform calculations just like a calculator or Excel."
      ],
      "metadata": {
        "id": "e3uVsm_4rDOK"
      }
    },
    {
      "cell_type": "markdown",
      "source": [
        "### Addition (+)"
      ],
      "metadata": {
        "id": "s3eqqz-z1GIS"
      }
    },
    {
      "cell_type": "code",
      "source": [
        "#Example: Combining sales from two departments\n",
        "\n",
        "department1_sales = 500\n",
        "department2_sales = 300\n",
        "\n",
        "total_sales = department1_sales + department2_sales\n",
        "\n",
        "print(\"Total sales from both departments:\", total_sales)"
      ],
      "metadata": {
        "id": "yjVof7vOZSgh",
        "colab": {
          "base_uri": "https://localhost:8080/"
        },
        "outputId": "aa11cd1d-0ca5-469b-ff9b-2c22611271f4"
      },
      "execution_count": null,
      "outputs": [
        {
          "output_type": "stream",
          "name": "stdout",
          "text": [
            "Total sales from both departments: 800\n"
          ]
        }
      ]
    },
    {
      "cell_type": "markdown",
      "source": [
        "### Subtraction (-)"
      ],
      "metadata": {
        "id": "Y1t07QSd1XVU"
      }
    },
    {
      "cell_type": "code",
      "source": [
        "# Example: Calculating profit\n",
        "\n",
        "profit = revenue - costs\n",
        "\n",
        "print(\"Profit = Revenue - Costs:\", profit)"
      ],
      "metadata": {
        "id": "eudCzUppZWUB",
        "colab": {
          "base_uri": "https://localhost:8080/"
        },
        "outputId": "f20b4d6b-2d59-4924-cb47-5a0756b55707"
      },
      "execution_count": null,
      "outputs": [
        {
          "output_type": "stream",
          "name": "stdout",
          "text": [
            "Profit = Revenue - Costs: 400\n"
          ]
        }
      ]
    },
    {
      "cell_type": "markdown",
      "source": [
        "### Multiplication (*)"
      ],
      "metadata": {
        "id": "mHSE-rj31lwO"
      }
    },
    {
      "cell_type": "code",
      "source": [
        "# Example: Calculating total revenue from units sold\n",
        "\n",
        "units_sold = 50              # Number of products sold\n",
        "price_per_unit = 20         # Price of each product\n",
        "\n",
        "revenue_calculation = units_sold * price_per_unit\n",
        "\n",
        "print(\"Revenue from units:\", revenue_calculation)"
      ],
      "metadata": {
        "colab": {
          "base_uri": "https://localhost:8080/"
        },
        "id": "km7ivcULq7gx",
        "outputId": "3206a4fb-fbc2-475d-e677-17fcde72c6cd"
      },
      "execution_count": null,
      "outputs": [
        {
          "output_type": "stream",
          "name": "stdout",
          "text": [
            "Revenue from units: 1000\n"
          ]
        }
      ]
    },
    {
      "cell_type": "markdown",
      "source": [
        "### Division (/)"
      ],
      "metadata": {
        "id": "ZKjBV7uz1ue4"
      }
    },
    {
      "cell_type": "code",
      "source": [
        "# Example: Calculating average sales per day\n",
        "\n",
        "weekly_sales = 1500\n",
        "days_in_week = 7\n",
        "\n",
        "average_daily_sales = weekly_sales / days_in_week\n",
        "\n",
        "print(\"Average daily sales:\", average_daily_sales)"
      ],
      "metadata": {
        "colab": {
          "base_uri": "https://localhost:8080/"
        },
        "id": "FPBSm3HUrAaz",
        "outputId": "585fcd54-6de2-43ca-af73-2fdb7a59b0b6"
      },
      "execution_count": null,
      "outputs": [
        {
          "output_type": "stream",
          "name": "stdout",
          "text": [
            "Average daily sales: 214.28571428571428\n"
          ]
        }
      ]
    },
    {
      "cell_type": "markdown",
      "source": [
        "### Basic Built-in Functions"
      ],
      "metadata": {
        "id": "F268xIV7CD1A"
      }
    },
    {
      "cell_type": "markdown",
      "source": [
        "Just like Excel has SUM(), AVERAGE(), MAX(), etc., Python has similar built-in functions ready to use."
      ],
      "metadata": {
        "id": "v8WcmJe6CJqH"
      }
    },
    {
      "cell_type": "code",
      "source": [
        "# Create some numbers to work with (like having numbers in Excel cells)\n",
        "sales_numbers = [100, 150, 200, 250, 300]\n",
        "print(\"Our sales numbers:\", sales_numbers)"
      ],
      "metadata": {
        "colab": {
          "base_uri": "https://localhost:8080/"
        },
        "id": "0ohj96iFCUPT",
        "outputId": "867662be-5c42-4fa6-a0e6-dfd4b61801c8"
      },
      "execution_count": null,
      "outputs": [
        {
          "output_type": "stream",
          "name": "stdout",
          "text": [
            "Our sales numbers: [100, 150, 200, 250, 300]\n"
          ]
        }
      ]
    },
    {
      "cell_type": "markdown",
      "source": [
        "#### sum() - Like SUM() in Excel"
      ],
      "metadata": {
        "id": "tmsgcjxGCV9k"
      }
    },
    {
      "cell_type": "code",
      "source": [
        "total_sales = sum(sales_numbers)\n",
        "print(\"\\nTotal sales using sum():\", total_sales)"
      ],
      "metadata": {
        "colab": {
          "base_uri": "https://localhost:8080/"
        },
        "id": "ocr-rCu4Cbhp",
        "outputId": "f5c472a9-29d2-41c8-e5fd-94b79f6553cf"
      },
      "execution_count": null,
      "outputs": [
        {
          "output_type": "stream",
          "name": "stdout",
          "text": [
            "\n",
            "Total sales using sum(): 1000\n"
          ]
        }
      ]
    },
    {
      "cell_type": "markdown",
      "source": [
        "#### max() - Like MAX() in Excel"
      ],
      "metadata": {
        "id": "Y-E9O2u9CiT6"
      }
    },
    {
      "cell_type": "code",
      "source": [
        "highest_sale = max(sales_numbers)\n",
        "print(\"Highest sale using max():\", highest_sale)"
      ],
      "metadata": {
        "colab": {
          "base_uri": "https://localhost:8080/"
        },
        "id": "nFG1f2oTClhM",
        "outputId": "3e46d5c1-5727-42a9-b412-f91a374dc146"
      },
      "execution_count": null,
      "outputs": [
        {
          "output_type": "stream",
          "name": "stdout",
          "text": [
            "Highest sale using max(): 300\n"
          ]
        }
      ]
    },
    {
      "cell_type": "markdown",
      "source": [
        "#### min() - Like MIN() in Excel"
      ],
      "metadata": {
        "id": "298yBghuCqKE"
      }
    },
    {
      "cell_type": "code",
      "source": [
        "lowest_sale = min(sales_numbers)\n",
        "print(\"Lowest sale using min():\", lowest_sale)"
      ],
      "metadata": {
        "colab": {
          "base_uri": "https://localhost:8080/"
        },
        "id": "5YxCwtxsCrgz",
        "outputId": "9c1a7244-6f66-4bfc-96c1-6a4cf5f21273"
      },
      "execution_count": null,
      "outputs": [
        {
          "output_type": "stream",
          "name": "stdout",
          "text": [
            "Lowest sale using min(): 100\n"
          ]
        }
      ]
    },
    {
      "cell_type": "markdown",
      "source": [
        "#### len() - Counts how many items (like COUNTA() in Excel)"
      ],
      "metadata": {
        "id": "DFcb8-D0C3tE"
      }
    },
    {
      "cell_type": "code",
      "source": [
        "number_of_sales = len(sales_numbers)\n",
        "print(\"Number of sales using len():\", number_of_sales)"
      ],
      "metadata": {
        "colab": {
          "base_uri": "https://localhost:8080/"
        },
        "id": "ii5p08QwC5Wx",
        "outputId": "33d1a5f9-f09d-40b7-ac56-1bd17e0d3b8c"
      },
      "execution_count": null,
      "outputs": [
        {
          "output_type": "stream",
          "name": "stdout",
          "text": [
            "Number of sales using len(): 5\n"
          ]
        }
      ]
    },
    {
      "cell_type": "markdown",
      "source": [
        "#### round() - Like ROUND() in Excel"
      ],
      "metadata": {
        "id": "ZnKGgG_wC-QU"
      }
    },
    {
      "cell_type": "code",
      "source": [
        "average_sale = sum(sales_numbers) / len(sales_numbers)\n",
        "rounded_average = round(average_sale, 2)  # 2 means round to 2 decimal places\n",
        "print(\"Average sale (rounded):\", rounded_average)"
      ],
      "metadata": {
        "colab": {
          "base_uri": "https://localhost:8080/"
        },
        "id": "aHD14_sNDBmp",
        "outputId": "c2142196-16e8-43cc-f9b1-adafa52decb0"
      },
      "execution_count": null,
      "outputs": [
        {
          "output_type": "stream",
          "name": "stdout",
          "text": [
            "Average sale (rounded): 200.0\n"
          ]
        }
      ]
    },
    {
      "cell_type": "markdown",
      "source": [
        "## 3.3c Updating Variables"
      ],
      "metadata": {
        "id": "1Ogqb8Ws2gYB"
      }
    },
    {
      "cell_type": "markdown",
      "source": [
        "Variables can be updated during the program, like updating a spreadsheet cell."
      ],
      "metadata": {
        "id": "mtitO2672m2l"
      }
    },
    {
      "cell_type": "code",
      "source": [
        "# Example: Tracking sales throughout the day\n",
        "daily_sales = 1000\n",
        "print(\"Morning sales:\", daily_sales)\n",
        "\n",
        "# Add afternoon sales\n",
        "daily_sales = daily_sales + 500    # Long way\n",
        "print(\"After afternoon sales:\", daily_sales)\n",
        "\n",
        "daily_sales += 300                 # Shorter way to add to existing value\n",
        "print(\"After evening sales:\", daily_sales)"
      ],
      "metadata": {
        "colab": {
          "base_uri": "https://localhost:8080/"
        },
        "id": "VBzjguww2qsT",
        "outputId": "dc130e04-0bcc-4a0a-bef2-7cfe7096480d"
      },
      "execution_count": null,
      "outputs": [
        {
          "output_type": "stream",
          "name": "stdout",
          "text": [
            "Morning sales: 1000\n"
          ]
        }
      ]
    },
    {
      "cell_type": "markdown",
      "source": [
        "## 3.3d Basic Practice Exercises"
      ],
      "metadata": {
        "id": "jDCMViP6251t"
      }
    },
    {
      "cell_type": "markdown",
      "source": [
        "### Exercise 1: Simple Sales Calculator"
      ],
      "metadata": {
        "id": "rsU-xu3j3FFZ"
      }
    },
    {
      "cell_type": "code",
      "source": [
        "product_price = 25\n",
        "quantity_sold = 100\n",
        "\n",
        "# Calculate total revenue"
      ],
      "metadata": {
        "id": "WO1CQXar2_OY"
      },
      "execution_count": null,
      "outputs": []
    },
    {
      "cell_type": "code",
      "source": [
        "product_price = 25\n",
        "quantity_sold = 100\n",
        "\n",
        "# Calculate total revenue\n",
        "total_revenue = product_price * quantity_sold\n",
        "print(\"\\nExercise 1 Results:\")\n",
        "print(\"Total Revenue:\", total_revenue)"
      ],
      "metadata": {
        "colab": {
          "base_uri": "https://localhost:8080/"
        },
        "id": "LZ56FJaN3axl",
        "outputId": "c40ed4dd-11f4-4345-eca0-e958e4b283a8"
      },
      "execution_count": null,
      "outputs": [
        {
          "output_type": "stream",
          "name": "stdout",
          "text": [
            "\n",
            "Exercise 1 Results:\n",
            "Total Revenue: 2500\n"
          ]
        }
      ]
    },
    {
      "cell_type": "markdown",
      "source": [
        "### Exercise 2: Profit Margin Calculator"
      ],
      "metadata": {
        "id": "W0eLaMm93mKB"
      }
    },
    {
      "cell_type": "code",
      "source": [
        "sales_revenue = 10000\n",
        "product_costs = 6000\n",
        "\n",
        "# Calculate profit and profit margin"
      ],
      "metadata": {
        "id": "tlmbElX03tSN"
      },
      "execution_count": null,
      "outputs": []
    },
    {
      "cell_type": "code",
      "source": [
        "sales_revenue = 10000\n",
        "product_costs = 6000\n",
        "\n",
        "# Calculate profit and profit margin\n",
        "profit = sales_revenue - product_costs\n",
        "profit_margin = (profit / sales_revenue) * 100\n",
        "print(\"\\nExercise 2 Results:\")\n",
        "print(\"Profit:\", profit)\n",
        "print(\"Profit Margin:\", profit_margin, \"%\")"
      ],
      "metadata": {
        "colab": {
          "base_uri": "https://localhost:8080/"
        },
        "id": "Llm7A6JR3vUE",
        "outputId": "6f3013c3-049e-4066-a566-ccc75ee54839"
      },
      "execution_count": null,
      "outputs": [
        {
          "output_type": "stream",
          "name": "stdout",
          "text": [
            "\n",
            "Exercise 2 Results:\n",
            "Profit: 4000\n",
            "Profit Margin: 40.0 %\n"
          ]
        }
      ]
    },
    {
      "cell_type": "markdown",
      "source": [
        "# Practice Problems"
      ],
      "metadata": {
        "id": "I5nUEBZh4M-A"
      }
    },
    {
      "cell_type": "markdown",
      "source": [
        "Try solving these problems by modifying the code below:"
      ],
      "metadata": {
        "id": "jPbNJQgE4RZA"
      }
    },
    {
      "cell_type": "markdown",
      "source": [
        "## Problem 1: Commission Calculator"
      ],
      "metadata": {
        "id": "wQcMlWdR4Zh9"
      }
    },
    {
      "cell_type": "code",
      "source": [
        "# A sales person makes a 5% commission on sales\n",
        "# Calculate their commission for a sale of $2000\n",
        "\n",
        "sales_amount = 2000\n",
        "commission_rate = 0.05\n",
        "\n",
        "# Your code here - calculate commission"
      ],
      "metadata": {
        "id": "KgVwtDiE4f25"
      },
      "execution_count": null,
      "outputs": []
    },
    {
      "cell_type": "markdown",
      "source": [
        "## Problem 2: Growth Calculator"
      ],
      "metadata": {
        "id": "_uFPo5uX4k1C"
      }
    },
    {
      "cell_type": "code",
      "source": [
        "# If a company's revenue grows by 10% each year,\n",
        "# what will be the revenue after one year if starting revenue is $50000?\n",
        "\n",
        "initial_revenue = 50000\n",
        "growth_rate = 0.10\n",
        "\n",
        "# Your code here - calculate new revenue"
      ],
      "metadata": {
        "id": "MrNRul2M4oZw"
      },
      "execution_count": null,
      "outputs": []
    },
    {
      "cell_type": "markdown",
      "source": [
        "## Problem 3: Break-Even Calculator"
      ],
      "metadata": {
        "id": "CZU4vbg64tQa"
      }
    },
    {
      "cell_type": "code",
      "source": [
        "# If fixed costs are $20000 and profit per unit is $40,\n",
        "# how many units need to be sold to break even?\n",
        "\n",
        "fixed_costs = 20000\n",
        "profit_per_unit = 40\n",
        "\n",
        "# Your code here - calculate break-even point"
      ],
      "metadata": {
        "id": "zFI9ZgFP4uRZ"
      },
      "execution_count": null,
      "outputs": []
    },
    {
      "cell_type": "markdown",
      "source": [
        "## BONUS Challenge"
      ],
      "metadata": {
        "id": "fG6iZTgc48Di"
      }
    },
    {
      "cell_type": "code",
      "source": [
        "# Create a simple ROI (Return on Investment) calculator\n",
        "# ROI = (Gain from Investment - Cost of Investment) / Cost of Investment * 100\n",
        "\n",
        "investment_cost = 15000\n",
        "investment_return = 18000\n",
        "\n",
        "# Your code here - calculate ROI"
      ],
      "metadata": {
        "id": "Sn6bCf7w5ARy"
      },
      "execution_count": null,
      "outputs": []
    },
    {
      "cell_type": "markdown",
      "source": [
        "# Solutions"
      ],
      "metadata": {
        "id": "xCbSYbJR5Een"
      }
    },
    {
      "cell_type": "code",
      "source": [
        "# Problem 1: Commission Calculator\n",
        "# A sales person makes a 5% commission on sales\n",
        "# Calculate their commission for a sale of $2000\n",
        "sales_amount = 2000\n",
        "commission_rate = 0.05\n",
        "commission = sales_amount * commission_rate\n",
        "print(\"\\nSolution 1 - Commission Calculator:\")\n",
        "print(\"Sales Amount:\", sales_amount)\n",
        "print(\"Commission Rate:\", commission_rate)\n",
        "print(\"Commission Earned:\", commission)  # Should be 100\n",
        "\n",
        "# Problem 2: Growth Calculator\n",
        "# If a company's revenue grows by 10% each year,\n",
        "# what will be the revenue after one year if starting revenue is $50000?\n",
        "initial_revenue = 50000\n",
        "growth_rate = 0.10\n",
        "revenue_growth = initial_revenue * growth_rate    # Calculate the growth amount\n",
        "new_revenue = initial_revenue + revenue_growth    # Add growth to initial revenue\n",
        "# Alternative one-line solution: new_revenue = initial_revenue * (1 + growth_rate)\n",
        "print(\"\\nSolution 2 - Growth Calculator:\")\n",
        "print(\"Initial Revenue:\", initial_revenue)\n",
        "print(\"Growth Rate:\", growth_rate)\n",
        "print(\"Revenue After One Year:\", new_revenue)  # Should be 55000\n",
        "\n",
        "# Problem 3: Break-Even Calculator\n",
        "# If fixed costs are $20000 and profit per unit is $40,\n",
        "# how many units need to be sold to break even?\n",
        "fixed_costs = 20000\n",
        "profit_per_unit = 40\n",
        "break_even_units = fixed_costs / profit_per_unit\n",
        "print(\"\\nSolution 3 - Break-Even Calculator:\")\n",
        "print(\"Fixed Costs:\", fixed_costs)\n",
        "print(\"Profit per Unit:\", profit_per_unit)\n",
        "print(\"Break-even Units:\", break_even_units)  # Should be 500\n",
        "\n",
        "# BONUS Challenge: ROI Calculator\n",
        "# ROI = (Gain from Investment - Cost of Investment) / Cost of Investment * 100\n",
        "investment_cost = 15000\n",
        "investment_return = 18000\n",
        "roi = ((investment_return - investment_cost) / investment_cost) * 100\n",
        "print(\"\\nBONUS Solution - ROI Calculator:\")\n",
        "print(\"Investment Cost:\", investment_cost)\n",
        "print(\"Investment Return:\", investment_return)\n",
        "print(\"ROI:\", roi, \"%\")  # Should be 20%"
      ],
      "metadata": {
        "colab": {
          "base_uri": "https://localhost:8080/"
        },
        "id": "d469ztZ25N24",
        "outputId": "e20df49a-5d3b-448e-fa47-2d0f88817970"
      },
      "execution_count": null,
      "outputs": [
        {
          "output_type": "stream",
          "name": "stdout",
          "text": [
            "\n",
            "Solution 1 - Commission Calculator:\n",
            "Sales Amount: 2000\n",
            "Commission Rate: 0.05\n",
            "Commission Earned: 100.0\n",
            "\n",
            "Solution 2 - Growth Calculator:\n",
            "Initial Revenue: 50000\n",
            "Growth Rate: 0.1\n",
            "Revenue After One Year: 55000.0\n",
            "\n",
            "Solution 3 - Break-Even Calculator:\n",
            "Fixed Costs: 20000\n",
            "Profit per Unit: 40\n",
            "Break-even Units: 500.0\n",
            "\n",
            "BONUS Solution - ROI Calculator:\n",
            "Investment Cost: 15000\n",
            "Investment Return: 18000\n",
            "ROI: 20.0 %\n"
          ]
        }
      ]
    },
    {
      "cell_type": "markdown",
      "source": [
        "# Python Libraries"
      ],
      "metadata": {
        "id": "9ZcUC4jgs33A"
      }
    },
    {
      "cell_type": "markdown",
      "source": [
        "### Example with Random Numbers"
      ],
      "metadata": {
        "id": "4XS6Now8s8nW"
      }
    },
    {
      "cell_type": "markdown",
      "source": [
        "Similar to the `=RAND()` function in Excel, you can google that the function to generate a random float between 0 and 1 in Python is `random()`.\n",
        "\n",
        "**BUT**"
      ],
      "metadata": {
        "id": "-CYbnccat3TK"
      }
    },
    {
      "cell_type": "code",
      "source": [
        "a = random()\n",
        "\n",
        "print(a)"
      ],
      "metadata": {
        "colab": {
          "base_uri": "https://localhost:8080/",
          "height": 176
        },
        "id": "Q0wFIYadtDjy",
        "outputId": "b7212a05-3ac1-4ae0-bf3e-bae6a80c7d29"
      },
      "execution_count": null,
      "outputs": [
        {
          "output_type": "error",
          "ename": "NameError",
          "evalue": "name 'random' is not defined",
          "traceback": [
            "\u001b[0;31m---------------------------------------------------------------------------\u001b[0m",
            "\u001b[0;31mNameError\u001b[0m                                 Traceback (most recent call last)",
            "\u001b[0;32m<ipython-input-6-c4ce1e292b81>\u001b[0m in \u001b[0;36m<cell line: 1>\u001b[0;34m()\u001b[0m\n\u001b[0;32m----> 1\u001b[0;31m \u001b[0ma\u001b[0m \u001b[0;34m=\u001b[0m \u001b[0mrandom\u001b[0m\u001b[0;34m(\u001b[0m\u001b[0;34m)\u001b[0m\u001b[0;34m\u001b[0m\u001b[0;34m\u001b[0m\u001b[0m\n\u001b[0m\u001b[1;32m      2\u001b[0m \u001b[0;34m\u001b[0m\u001b[0m\n\u001b[1;32m      3\u001b[0m \u001b[0mprint\u001b[0m\u001b[0;34m(\u001b[0m\u001b[0ma\u001b[0m\u001b[0;34m)\u001b[0m\u001b[0;34m\u001b[0m\u001b[0;34m\u001b[0m\u001b[0m\n",
            "\u001b[0;31mNameError\u001b[0m: name 'random' is not defined"
          ]
        }
      ]
    },
    {
      "cell_type": "markdown",
      "source": [
        "### NumPy (for numerical computations)"
      ],
      "metadata": {
        "id": "zTXT9AVcgnqa"
      }
    },
    {
      "cell_type": "code",
      "source": [
        "import numpy as np"
      ],
      "metadata": {
        "id": "z1Hgp6WJZLyq"
      },
      "execution_count": null,
      "outputs": []
    },
    {
      "cell_type": "markdown",
      "source": [
        "### Pandas (for data manipulation and analysis)"
      ],
      "metadata": {
        "id": "yL6lyAECgzg8"
      }
    },
    {
      "cell_type": "code",
      "source": [
        "import pandas as pd"
      ],
      "metadata": {
        "id": "j8n7y3YzZO7p"
      },
      "execution_count": null,
      "outputs": []
    },
    {
      "cell_type": "markdown",
      "source": [
        "### Matplotlib (for data visualization)"
      ],
      "metadata": {
        "id": "_EZrnO8Og8PQ"
      }
    },
    {
      "cell_type": "code",
      "source": [
        "import matplotlib.pyplot as plt"
      ],
      "metadata": {
        "id": "vzrNgIQtZRBA"
      },
      "execution_count": null,
      "outputs": []
    },
    {
      "cell_type": "markdown",
      "source": [
        "### Seaborn (for statistical data visualization)"
      ],
      "metadata": {
        "id": "5kvSMcU7hEVc"
      }
    },
    {
      "cell_type": "code",
      "source": [
        "import seaborn as sns"
      ],
      "metadata": {
        "id": "563bqA9yhINX"
      },
      "execution_count": null,
      "outputs": []
    },
    {
      "cell_type": "markdown",
      "source": [
        "### Scikit-learn (for machine learning)"
      ],
      "metadata": {
        "id": "LWjMhOERhOwm"
      }
    },
    {
      "cell_type": "code",
      "source": [
        "from sklearn.model_selection import train_test_split\n",
        "from sklearn.preprocessing import StandardScaler\n",
        "from sklearn.linear_model import LinearRegression"
      ],
      "metadata": {
        "id": "31_4Yu22hP6G"
      },
      "execution_count": null,
      "outputs": []
    },
    {
      "cell_type": "markdown",
      "source": [
        "### SciPy (for scientific and technical computing)"
      ],
      "metadata": {
        "id": "NzbnXjm8hS60"
      }
    },
    {
      "cell_type": "code",
      "source": [
        "import scipy as sp"
      ],
      "metadata": {
        "id": "BBMgg3R9hV9c"
      },
      "execution_count": null,
      "outputs": []
    },
    {
      "cell_type": "markdown",
      "source": [
        "### Statsmodels (for statistical modeling)"
      ],
      "metadata": {
        "id": "rRPBoDLPhaaT"
      }
    },
    {
      "cell_type": "code",
      "source": [
        "import statsmodels.api as sm"
      ],
      "metadata": {
        "id": "CNvPyGFnhbmm"
      },
      "execution_count": null,
      "outputs": []
    },
    {
      "cell_type": "markdown",
      "source": [
        "### Plotly (for interactive visualizations)"
      ],
      "metadata": {
        "id": "wFRTKpGshdpt"
      }
    },
    {
      "cell_type": "code",
      "source": [
        "import plotly.express as px"
      ],
      "metadata": {
        "id": "cSGQX420hh4k"
      },
      "execution_count": null,
      "outputs": []
    },
    {
      "cell_type": "markdown",
      "source": [
        "### TensorFlow (for deep learning)"
      ],
      "metadata": {
        "id": "i_AHCQlThl1-"
      }
    },
    {
      "cell_type": "code",
      "source": [
        "import tensorflow as tf"
      ],
      "metadata": {
        "id": "oGlAgh4HhoOi"
      },
      "execution_count": null,
      "outputs": []
    },
    {
      "cell_type": "markdown",
      "source": [
        "### Importing Issues in Notebooks\n",
        "Use the following code to test your notebook. It should be able to import these libraries. In case it does not work, use the following code:\n",
        "```\n",
        "import piplite\n",
        "await piplite.install('seaborn')\n",
        "import seaborn as sns\n",
        "```\n",
        "Adjust to other libraries - this is an example for seaborn which does not work properly on some platforms.\n",
        "\n",
        "\n"
      ],
      "metadata": {
        "id": "u0Vwdwg0fsEl"
      }
    }
  ]
}