{
  "nbformat": 4,
  "nbformat_minor": 0,
  "metadata": {
    "colab": {
      "provenance": [],
      "toc_visible": true,
      "collapsed_sections": [
        "xCbSYbJR5Een",
        "9ZcUC4jgs33A",
        "4XS6Now8s8nW"
      ]
    },
    "kernelspec": {
      "name": "python3",
      "display_name": "Python 3"
    },
    "language_info": {
      "name": "python"
    }
  },
  "cells": [
    {
      "cell_type": "markdown",
      "source": [
        "# 3.3 Python Practicing - Part 2"
      ],
      "metadata": {
        "id": "pXcs-NwHezDP"
      }
    },
    {
      "cell_type": "markdown",
      "source": [
        "## 3.3e Basic Data Types"
      ],
      "metadata": {
        "id": "6Ywu-k3vfJue"
      }
    },
    {
      "cell_type": "markdown",
      "source": [
        "### Strings (str) - Used for text data"
      ],
      "metadata": {
        "id": "aSki68C5gd_-"
      }
    },
    {
      "cell_type": "markdown",
      "source": [
        "Strings are used for text data like customer names, product descriptions, etc."
      ],
      "metadata": {
        "id": "nu58MECN9coi"
      }
    },
    {
      "cell_type": "code",
      "source": [
        "customer_name = \"John Smith\"\n",
        "product_category = 'Electronics'    # Can use single or double quotes\n",
        "email = \"john.smith@company.com\"\n",
        "\n",
        "print(\"String Examples:\")\n",
        "print(\"Customer:\", customer_name)\n",
        "print(\"Category:\", product_category)\n",
        "print(\"Email:\", email)"
      ],
      "metadata": {
        "id": "ntgmvaJtsu8g",
        "colab": {
          "base_uri": "https://localhost:8080/"
        },
        "outputId": "5bd3755f-8ca2-41a8-881e-a607b67ee257"
      },
      "execution_count": null,
      "outputs": [
        {
          "output_type": "stream",
          "name": "stdout",
          "text": [
            "String Examples:\n",
            "Customer: John Smith\n",
            "Category: Electronics\n",
            "Email: john.smith@company.com\n"
          ]
        }
      ]
    },
    {
      "cell_type": "markdown",
      "source": [
        "### String operations"
      ],
      "metadata": {
        "id": "JbQ6WjwL9lql"
      }
    },
    {
      "cell_type": "markdown",
      "source": [
        "You can combine strings using +"
      ],
      "metadata": {
        "id": "lisIcDLD9wVH"
      }
    },
    {
      "cell_type": "code",
      "source": [
        "full_message = \"Dear \" + customer_name + \", thank you for your purchase!\"\n",
        "print(\"\\nCombined message:\", full_message)\n",
        "\n",
        "# You can also use string methods\n",
        "print(\"Uppercase:\", customer_name.upper())\n",
        "print(\"Lowercase:\", customer_name.lower())\n",
        "print(\"Number of characters:\", len(customer_name))"
      ],
      "metadata": {
        "id": "2Fe9SBbB0d43",
        "colab": {
          "base_uri": "https://localhost:8080/"
        },
        "outputId": "b726f316-1eea-4b4c-80cb-46b3df2585f1"
      },
      "execution_count": null,
      "outputs": [
        {
          "output_type": "stream",
          "name": "stdout",
          "text": [
            "\n",
            "Combined message: Dear John Smith, thank you for your purchase!\n",
            "Uppercase: JOHN SMITH\n",
            "Lowercase: john smith\n",
            "Number of characters: 10\n"
          ]
        }
      ]
    },
    {
      "cell_type": "markdown",
      "source": [
        "## 3.3f Numbers (int, float) - Used for numerical data"
      ],
      "metadata": {
        "id": "0zMqJlLGfVEp"
      }
    },
    {
      "cell_type": "markdown",
      "source": [
        "### Integers (int) - Whole numbers"
      ],
      "metadata": {
        "id": "s3eqqz-z1GIS"
      }
    },
    {
      "cell_type": "code",
      "source": [
        "quantity = 100\n",
        "employee_id = 12345"
      ],
      "metadata": {
        "id": "yjVof7vOZSgh"
      },
      "execution_count": null,
      "outputs": []
    },
    {
      "cell_type": "markdown",
      "source": [
        "### Floating point (float) - Decimal numbers"
      ],
      "metadata": {
        "id": "Y1t07QSd1XVU"
      }
    },
    {
      "cell_type": "code",
      "source": [
        "price = 19.99\n",
        "tax_rate = 0.15"
      ],
      "metadata": {
        "id": "eudCzUppZWUB"
      },
      "execution_count": null,
      "outputs": []
    },
    {
      "cell_type": "code",
      "source": [
        "print(\"\\nNumber Examples:\")\n",
        "print(\"Quantity (int):\", quantity)\n",
        "print(\"Price (float):\", price)"
      ],
      "metadata": {
        "colab": {
          "base_uri": "https://localhost:8080/"
        },
        "id": "pxTqlEpv-VZz",
        "outputId": "5c3b415b-47b4-448c-b807-e971bf0a7469"
      },
      "execution_count": null,
      "outputs": [
        {
          "output_type": "stream",
          "name": "stdout",
          "text": [
            "\n",
            "Number Examples:\n",
            "Quantity (int): 100\n",
            "Price (float): 19.99\n"
          ]
        }
      ]
    },
    {
      "cell_type": "markdown",
      "source": [
        "### Numeric operations"
      ],
      "metadata": {
        "id": "mHSE-rj31lwO"
      }
    },
    {
      "cell_type": "code",
      "source": [
        "total_price = quantity * price\n",
        "tax_amount = total_price * tax_rate\n",
        "final_price = total_price + tax_amount\n",
        "\n",
        "print(\"Total before tax:\", total_price)\n",
        "print(\"Tax amount:\", tax_amount)\n",
        "print(\"Final price:\", final_price)"
      ],
      "metadata": {
        "colab": {
          "base_uri": "https://localhost:8080/"
        },
        "id": "km7ivcULq7gx",
        "outputId": "4daca839-4578-4abd-89f1-67fed8c5f1cc"
      },
      "execution_count": null,
      "outputs": [
        {
          "output_type": "stream",
          "name": "stdout",
          "text": [
            "Total before tax: 1998.9999999999998\n",
            "Tax amount: 299.84999999999997\n",
            "Final price: 2298.85\n"
          ]
        }
      ]
    },
    {
      "cell_type": "markdown",
      "source": [
        "## 3.3g Lists"
      ],
      "metadata": {
        "id": "1Ogqb8Ws2gYB"
      }
    },
    {
      "cell_type": "markdown",
      "source": [
        "Lists are ordered collections that can store multiple values. Think of them like a column in Excel."
      ],
      "metadata": {
        "id": "mtitO2672m2l"
      }
    },
    {
      "cell_type": "markdown",
      "source": [
        "### Creating lists"
      ],
      "metadata": {
        "id": "a-sV5XTk-5px"
      }
    },
    {
      "cell_type": "code",
      "source": [
        "monthly_sales = [45000, 52000, 47000, 48000, 54000]\n",
        "product_names = [\"Laptop\", \"Mouse\", \"Keyboard\", \"Monitor\"]\n",
        "daily_temperatures = [68.5, 70.2, 69.8, 71.5, 72.0]\n",
        "\n",
        "print(\"\\nList Examples:\")\n",
        "print(\"Monthly Sales:\", monthly_sales)\n",
        "print(\"Products:\", product_names)"
      ],
      "metadata": {
        "colab": {
          "base_uri": "https://localhost:8080/"
        },
        "id": "VBzjguww2qsT",
        "outputId": "afc82835-7ab9-4490-aab1-2ab67aa87b02"
      },
      "execution_count": null,
      "outputs": [
        {
          "output_type": "stream",
          "name": "stdout",
          "text": [
            "\n",
            "List Examples:\n",
            "Monthly Sales: [45000, 52000, 47000, 48000, 54000]\n",
            "Products: ['Laptop', 'Mouse', 'Keyboard', 'Monitor']\n"
          ]
        }
      ]
    },
    {
      "cell_type": "markdown",
      "source": [
        "### List operations"
      ],
      "metadata": {
        "id": "gf4q6WuH--ug"
      }
    },
    {
      "cell_type": "code",
      "source": [
        "# Accessing elements (starts from 0)\n",
        "print(\"\\nFirst month sales:\", monthly_sales[0])  # 45000\n",
        "print(\"Last product:\", product_names[-1])      # Monitor\n",
        "\n",
        "# Adding items to a list\n",
        "product_names.append(\"Printer\")\n",
        "print(\"Updated products:\", product_names)\n",
        "\n",
        "# List calculations\n",
        "total_sales = sum(monthly_sales)\n",
        "average_sales = total_sales / len(monthly_sales)\n",
        "\n",
        "print(\"Total sales:\", total_sales)\n",
        "print(\"Average sales:\", average_sales)"
      ],
      "metadata": {
        "colab": {
          "base_uri": "https://localhost:8080/"
        },
        "id": "dOpGRE1z_BGf",
        "outputId": "f09f62e9-fb0a-4470-a930-697527f35900"
      },
      "execution_count": null,
      "outputs": [
        {
          "output_type": "stream",
          "name": "stdout",
          "text": [
            "\n",
            "First month sales: 45000\n",
            "Last product: Printer\n",
            "Updated products: ['Laptop', 'Mouse', 'Keyboard', 'Monitor', 'Printer', 'Printer']\n",
            "Total sales: 246000\n",
            "Average sales: 49200.0\n"
          ]
        }
      ]
    },
    {
      "cell_type": "markdown",
      "source": [
        "## 3.3h Dictionaries"
      ],
      "metadata": {
        "id": "jDCMViP6251t"
      }
    },
    {
      "cell_type": "markdown",
      "source": [
        "Dictionaries store key-value pairs. Think of them like a mini-database or Excel row."
      ],
      "metadata": {
        "id": "tB0af2vD_Y77"
      }
    },
    {
      "cell_type": "markdown",
      "source": [
        "### Creating a dictionary"
      ],
      "metadata": {
        "id": "avqwgr7-_wNt"
      }
    },
    {
      "cell_type": "code",
      "source": [
        "product = {\n",
        "    \"name\": \"Laptop\",\n",
        "    \"price\": 999.99,\n",
        "    \"stock\": 45,\n",
        "    \"category\": \"Electronics\",\n",
        "    \"in_stock\": True\n",
        "}"
      ],
      "metadata": {
        "id": "Llm7A6JR3vUE"
      },
      "execution_count": null,
      "outputs": []
    },
    {
      "cell_type": "markdown",
      "source": [
        "### Accessing and modifying values"
      ],
      "metadata": {
        "id": "RVYICc18_6Eo"
      }
    },
    {
      "cell_type": "code",
      "source": [
        "# Accessing dictionary values\n",
        "print(\"Product name:\", product[\"name\"])\n",
        "print(\"Product price:\", product[\"price\"])\n",
        "\n",
        "# Modifying dictionary values\n",
        "product[\"stock\"] = 44  # Reduce stock by 1\n",
        "product[\"last_sold\"] = \"2024-01-15\"  # Add new information\n",
        "\n",
        "print(\"Updated product:\", product)"
      ],
      "metadata": {
        "colab": {
          "base_uri": "https://localhost:8080/"
        },
        "id": "epMhDnXdABYz",
        "outputId": "ebe2a816-9abf-454b-c9ae-0c9fdf7fa4c5"
      },
      "execution_count": null,
      "outputs": [
        {
          "output_type": "stream",
          "name": "stdout",
          "text": [
            "Product name: Laptop\n",
            "Product price: 999.99\n",
            "Updated product: {'name': 'Laptop', 'price': 999.99, 'stock': 44, 'category': 'Electronics', 'in_stock': True, 'last_sold': '2024-01-15'}\n"
          ]
        }
      ]
    },
    {
      "cell_type": "markdown",
      "source": [
        "# Practice Problems"
      ],
      "metadata": {
        "id": "I5nUEBZh4M-A"
      }
    },
    {
      "cell_type": "markdown",
      "source": [
        "Try solving these problems by modifying the code below:"
      ],
      "metadata": {
        "id": "jPbNJQgE4RZA"
      }
    },
    {
      "cell_type": "markdown",
      "source": [
        "## Problem 1: String Manipulation"
      ],
      "metadata": {
        "id": "wQcMlWdR4Zh9"
      }
    },
    {
      "cell_type": "code",
      "source": [
        "# Create a customer email from their name and company\n",
        "first_name = \"Sarah\"\n",
        "last_name = \"Johnson\"\n",
        "company = \"TechCorp\"\n",
        "\n",
        "# Task: Create their email address following the format: first.last@company.com"
      ],
      "metadata": {
        "id": "KgVwtDiE4f25"
      },
      "execution_count": null,
      "outputs": []
    },
    {
      "cell_type": "markdown",
      "source": [
        "## Problem 2: List Operations"
      ],
      "metadata": {
        "id": "_uFPo5uX4k1C"
      }
    },
    {
      "cell_type": "code",
      "source": [
        "# You have the following sales data\n",
        "quarterly_sales = [100000, 150000, 125000, 175000]\n",
        "\n",
        "# Tasks:\n",
        "# 1. Calculate the total annual sales\n",
        "# 2. Find the highest quarterly sale\n",
        "# 3. Calculate the average quarterly sale\n",
        "# 4. Add a new quarter's prediction of 180000"
      ],
      "metadata": {
        "id": "MrNRul2M4oZw"
      },
      "execution_count": null,
      "outputs": []
    },
    {
      "cell_type": "markdown",
      "source": [
        "## Problem 3: Dictionary Creation and Manipulation"
      ],
      "metadata": {
        "id": "CZU4vbg64tQa"
      }
    },
    {
      "cell_type": "code",
      "source": [
        "# Create a customer record with the following information:\n",
        "# - Customer ID: 1001\n",
        "# - Name: Alice Brown\n",
        "# - Email: alice.brown@email.com\n",
        "# - Purchase History: [1200, 1500, 800]\n",
        "# Then calculate their total purchases"
      ],
      "metadata": {
        "id": "zFI9ZgFP4uRZ"
      },
      "execution_count": null,
      "outputs": []
    },
    {
      "cell_type": "markdown",
      "source": [
        "## Problem 4: Combined Data Structures"
      ],
      "metadata": {
        "id": "djFaM4mNAnwZ"
      }
    },
    {
      "cell_type": "code",
      "source": [
        "# Create a list of dictionaries representing inventory:\n",
        "# Each dictionary should contain:\n",
        "# - Product name\n",
        "# - Price\n",
        "# - Quantity in stock\n",
        "# Then calculate the total inventory value"
      ],
      "metadata": {
        "id": "MtNl8RdeAv2Z"
      },
      "execution_count": null,
      "outputs": []
    },
    {
      "cell_type": "markdown",
      "source": [
        "## BONUS Challenge"
      ],
      "metadata": {
        "id": "fG6iZTgc48Di"
      }
    },
    {
      "cell_type": "code",
      "source": [
        "# Create a simple customer database using a list of dictionaries\n",
        "# Then write code to:\n",
        "# 1. Find all customers who spent more than $1000\n",
        "# 2. Calculate the average purchase per customer\n",
        "# 3. Find the customer who spent the most"
      ],
      "metadata": {
        "id": "Sn6bCf7w5ARy"
      },
      "execution_count": null,
      "outputs": []
    },
    {
      "cell_type": "markdown",
      "source": [
        "# Solutions"
      ],
      "metadata": {
        "id": "xCbSYbJR5Een"
      }
    },
    {
      "cell_type": "code",
      "source": [
        "# Problem 1: String Manipulation\n",
        "first_name = \"Sarah\"\n",
        "last_name = \"Johnson\"\n",
        "company = \"TechCorp\"\n",
        "\n",
        "# Creating email\n",
        "email = first_name.lower() + \".\" + last_name.lower() + \"@\" + company.lower() + \".com\"\n",
        "print(\"\\nExercise 1 Solution:\")\n",
        "print(\"Generated email:\", email)  # sarah.johnson@techcorp.com\n",
        "\n",
        "# Problem 2: List Operations\n",
        "quarterly_sales = [100000, 150000, 125000, 175000]\n",
        "\n",
        "# 1. Total annual sales\n",
        "annual_sales = sum(quarterly_sales)\n",
        "\n",
        "# 2. Highest quarterly sale\n",
        "highest_quarter = max(quarterly_sales)\n",
        "\n",
        "# 3. Average quarterly sale\n",
        "average_quarter = sum(quarterly_sales) / len(quarterly_sales)\n",
        "\n",
        "# 4. Add new prediction\n",
        "quarterly_sales.append(180000)\n",
        "\n",
        "print(\"\\nExercise 2 Solution:\")\n",
        "print(\"Annual sales:\", annual_sales)\n",
        "print(\"Highest quarter:\", highest_quarter)\n",
        "print(\"Average quarter:\", average_quarter)\n",
        "print(\"Updated quarters:\", quarterly_sales)\n",
        "\n",
        "# Problem 3: Dictionary Creation\n",
        "customer = {\n",
        "    \"customer_id\": 1001,\n",
        "    \"name\": \"Alice Brown\",\n",
        "    \"email\": \"alice.brown@email.com\",\n",
        "    \"purchase_history\": [1200, 1500, 800]\n",
        "}\n",
        "\n",
        "# Calculate total purchases\n",
        "total_purchases = sum(customer[\"purchase_history\"])\n",
        "\n",
        "print(\"\\nExercise 3 Solution:\")\n",
        "print(\"Customer record:\", customer)\n",
        "print(\"Total purchases:\", total_purchases)\n",
        "\n",
        "# Problem 4: Combined Data Structures\n",
        "inventory = [\n",
        "    {\"name\": \"Laptop\", \"price\": 999.99, \"quantity\": 10},\n",
        "    {\"name\": \"Mouse\", \"price\": 24.99, \"quantity\": 100},\n",
        "    {\"name\": \"Monitor\", \"price\": 199.99, \"quantity\": 25}\n",
        "]\n",
        "\n",
        "# Calculate total inventory value\n",
        "total_value = 0\n",
        "for item in inventory:\n",
        "    item_value = item[\"price\"] * item[\"quantity\"]\n",
        "    total_value += item_value\n",
        "\n",
        "print(\"\\nExercise 4 Solution:\")\n",
        "print(\"Inventory:\", inventory)\n",
        "print(\"Total inventory value:\", total_value)\n",
        "\n",
        "# BONUS Challenge Solution\n",
        "customers = [\n",
        "    {\n",
        "        \"name\": \"John Doe\",\n",
        "        \"purchases\": [500, 700, 300]\n",
        "    },\n",
        "    {\n",
        "        \"name\": \"Jane Smith\",\n",
        "        \"purchases\": [1200, 900, 400]\n",
        "    },\n",
        "    {\n",
        "        \"name\": \"Bob Johnson\",\n",
        "        \"purchases\": [2000, 1500]\n",
        "    }\n",
        "]\n",
        "\n",
        "# 1. Customers who spent more than $1000 total\n",
        "high_value_customers = []\n",
        "for customer in customers:\n",
        "    total_spent = sum(customer[\"purchases\"])\n",
        "    if total_spent > 1000:\n",
        "        high_value_customers.append({\"name\": customer[\"name\"], \"total_spent\": total_spent})\n",
        "\n",
        "# 2. Average purchase per customer\n",
        "total_all_purchases = 0\n",
        "num_customers = len(customers)\n",
        "for customer in customers:\n",
        "    total_all_purchases += sum(customer[\"purchases\"])\n",
        "average_per_customer = total_all_purchases / num_customers\n",
        "\n",
        "# 3. Customer who spent the most\n",
        "highest_spender = max(customers, key=lambda x: sum(x[\"purchases\"]))\n",
        "\n",
        "print(\"\\nBONUS Challenge Solution:\")\n",
        "print(\"High value customers:\", high_value_customers)\n",
        "print(\"Average per customer:\", average_per_customer)\n",
        "print(\"Highest spender:\", highest_spender[\"name\"])\n"
      ],
      "metadata": {
        "colab": {
          "base_uri": "https://localhost:8080/"
        },
        "id": "d469ztZ25N24",
        "outputId": "1ef61afc-74c4-47d9-fb5a-078f45d787c5"
      },
      "execution_count": null,
      "outputs": [
        {
          "output_type": "stream",
          "name": "stdout",
          "text": [
            "\n",
            "Exercise 1 Solution:\n",
            "Generated email: sarah.johnson@techcorp.com\n",
            "\n",
            "Exercise 2 Solution:\n",
            "Annual sales: 550000\n",
            "Highest quarter: 175000\n",
            "Average quarter: 137500.0\n",
            "Updated quarters: [100000, 150000, 125000, 175000, 180000]\n",
            "\n",
            "Exercise 3 Solution:\n",
            "Customer record: {'customer_id': 1001, 'name': 'Alice Brown', 'email': 'alice.brown@email.com', 'purchase_history': [1200, 1500, 800]}\n",
            "Total purchases: 3500\n",
            "\n",
            "Exercise 4 Solution:\n",
            "Inventory: [{'name': 'Laptop', 'price': 999.99, 'quantity': 10}, {'name': 'Mouse', 'price': 24.99, 'quantity': 100}, {'name': 'Monitor', 'price': 199.99, 'quantity': 25}]\n",
            "Total inventory value: 17498.65\n",
            "\n",
            "BONUS Challenge Solution:\n",
            "High value customers: [{'name': 'John Doe', 'total_spent': 1500}, {'name': 'Jane Smith', 'total_spent': 2500}, {'name': 'Bob Johnson', 'total_spent': 3500}]\n",
            "Average per customer: 2500.0\n",
            "Highest spender: Bob Johnson\n"
          ]
        }
      ]
    },
    {
      "cell_type": "markdown",
      "source": [
        "# Python Libraries"
      ],
      "metadata": {
        "id": "9ZcUC4jgs33A"
      }
    },
    {
      "cell_type": "markdown",
      "source": [
        "### Example with Random Numbers"
      ],
      "metadata": {
        "id": "4XS6Now8s8nW"
      }
    },
    {
      "cell_type": "markdown",
      "source": [
        "Similar to the `=RAND()` function in Excel, you can google that the function to generate a random float between 0 and 1 in Python is `random()`.\n",
        "\n",
        "**BUT**"
      ],
      "metadata": {
        "id": "-CYbnccat3TK"
      }
    },
    {
      "cell_type": "code",
      "source": [
        "a = random()\n",
        "\n",
        "print(a)"
      ],
      "metadata": {
        "colab": {
          "base_uri": "https://localhost:8080/",
          "height": 176
        },
        "id": "Q0wFIYadtDjy",
        "outputId": "b7212a05-3ac1-4ae0-bf3e-bae6a80c7d29"
      },
      "execution_count": null,
      "outputs": [
        {
          "output_type": "error",
          "ename": "NameError",
          "evalue": "name 'random' is not defined",
          "traceback": [
            "\u001b[0;31m---------------------------------------------------------------------------\u001b[0m",
            "\u001b[0;31mNameError\u001b[0m                                 Traceback (most recent call last)",
            "\u001b[0;32m<ipython-input-6-c4ce1e292b81>\u001b[0m in \u001b[0;36m<cell line: 1>\u001b[0;34m()\u001b[0m\n\u001b[0;32m----> 1\u001b[0;31m \u001b[0ma\u001b[0m \u001b[0;34m=\u001b[0m \u001b[0mrandom\u001b[0m\u001b[0;34m(\u001b[0m\u001b[0;34m)\u001b[0m\u001b[0;34m\u001b[0m\u001b[0;34m\u001b[0m\u001b[0m\n\u001b[0m\u001b[1;32m      2\u001b[0m \u001b[0;34m\u001b[0m\u001b[0m\n\u001b[1;32m      3\u001b[0m \u001b[0mprint\u001b[0m\u001b[0;34m(\u001b[0m\u001b[0ma\u001b[0m\u001b[0;34m)\u001b[0m\u001b[0;34m\u001b[0m\u001b[0;34m\u001b[0m\u001b[0m\n",
            "\u001b[0;31mNameError\u001b[0m: name 'random' is not defined"
          ]
        }
      ]
    },
    {
      "cell_type": "markdown",
      "source": [
        "### NumPy (for numerical computations)"
      ],
      "metadata": {
        "id": "zTXT9AVcgnqa"
      }
    },
    {
      "cell_type": "code",
      "source": [
        "import numpy as np"
      ],
      "metadata": {
        "id": "z1Hgp6WJZLyq"
      },
      "execution_count": null,
      "outputs": []
    },
    {
      "cell_type": "markdown",
      "source": [
        "### Pandas (for data manipulation and analysis)"
      ],
      "metadata": {
        "id": "yL6lyAECgzg8"
      }
    },
    {
      "cell_type": "code",
      "source": [
        "import pandas as pd"
      ],
      "metadata": {
        "id": "j8n7y3YzZO7p"
      },
      "execution_count": null,
      "outputs": []
    },
    {
      "cell_type": "markdown",
      "source": [
        "### Matplotlib (for data visualization)"
      ],
      "metadata": {
        "id": "_EZrnO8Og8PQ"
      }
    },
    {
      "cell_type": "code",
      "source": [
        "import matplotlib.pyplot as plt"
      ],
      "metadata": {
        "id": "vzrNgIQtZRBA"
      },
      "execution_count": null,
      "outputs": []
    },
    {
      "cell_type": "markdown",
      "source": [
        "### Seaborn (for statistical data visualization)"
      ],
      "metadata": {
        "id": "5kvSMcU7hEVc"
      }
    },
    {
      "cell_type": "code",
      "source": [
        "import seaborn as sns"
      ],
      "metadata": {
        "id": "563bqA9yhINX"
      },
      "execution_count": null,
      "outputs": []
    },
    {
      "cell_type": "markdown",
      "source": [
        "### Scikit-learn (for machine learning)"
      ],
      "metadata": {
        "id": "LWjMhOERhOwm"
      }
    },
    {
      "cell_type": "code",
      "source": [
        "from sklearn.model_selection import train_test_split\n",
        "from sklearn.preprocessing import StandardScaler\n",
        "from sklearn.linear_model import LinearRegression"
      ],
      "metadata": {
        "id": "31_4Yu22hP6G"
      },
      "execution_count": null,
      "outputs": []
    },
    {
      "cell_type": "markdown",
      "source": [
        "### SciPy (for scientific and technical computing)"
      ],
      "metadata": {
        "id": "NzbnXjm8hS60"
      }
    },
    {
      "cell_type": "code",
      "source": [
        "import scipy as sp"
      ],
      "metadata": {
        "id": "BBMgg3R9hV9c"
      },
      "execution_count": null,
      "outputs": []
    },
    {
      "cell_type": "markdown",
      "source": [
        "### Statsmodels (for statistical modeling)"
      ],
      "metadata": {
        "id": "rRPBoDLPhaaT"
      }
    },
    {
      "cell_type": "code",
      "source": [
        "import statsmodels.api as sm"
      ],
      "metadata": {
        "id": "CNvPyGFnhbmm"
      },
      "execution_count": null,
      "outputs": []
    },
    {
      "cell_type": "markdown",
      "source": [
        "### Plotly (for interactive visualizations)"
      ],
      "metadata": {
        "id": "wFRTKpGshdpt"
      }
    },
    {
      "cell_type": "code",
      "source": [
        "import plotly.express as px"
      ],
      "metadata": {
        "id": "cSGQX420hh4k"
      },
      "execution_count": null,
      "outputs": []
    },
    {
      "cell_type": "markdown",
      "source": [
        "### TensorFlow (for deep learning)"
      ],
      "metadata": {
        "id": "i_AHCQlThl1-"
      }
    },
    {
      "cell_type": "code",
      "source": [
        "import tensorflow as tf"
      ],
      "metadata": {
        "id": "oGlAgh4HhoOi"
      },
      "execution_count": null,
      "outputs": []
    },
    {
      "cell_type": "markdown",
      "source": [
        "### Importing Issues in Notebooks\n",
        "Use the following code to test your notebook. It should be able to import these libraries. In case it does not work, use the following code:\n",
        "```\n",
        "import piplite\n",
        "await piplite.install('seaborn')\n",
        "import seaborn as sns\n",
        "```\n",
        "Adjust to other libraries - this is an example for seaborn which does not work properly on some platforms.\n",
        "\n",
        "\n"
      ],
      "metadata": {
        "id": "u0Vwdwg0fsEl"
      }
    }
  ]
}