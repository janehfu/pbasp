{
  "nbformat": 4,
  "nbformat_minor": 0,
  "metadata": {
    "colab": {
      "provenance": [],
      "toc_visible": true,
      "authorship_tag": "ABX9TyObLvRnp1aomcsEw5OyECfr",
      "include_colab_link": true
    },
    "kernelspec": {
      "name": "python3",
      "display_name": "Python 3"
    },
    "language_info": {
      "name": "python"
    }
  },
  "cells": [
    {
      "cell_type": "markdown",
      "metadata": {
        "id": "view-in-github",
        "colab_type": "text"
      },
      "source": [
        "<a href=\"https://colab.research.google.com/github/janehfu/pbasp/blob/main/3_1_python_setup.ipynb\" target=\"_parent\"><img src=\"https://colab.research.google.com/assets/colab-badge.svg\" alt=\"Open In Colab\"/></a>"
      ]
    },
    {
      "cell_type": "markdown",
      "source": [
        "# 3.1 Python Setup"
      ],
      "metadata": {
        "id": "pXcs-NwHezDP"
      }
    },
    {
      "cell_type": "markdown",
      "source": [
        "## 3.1 a Python Setup"
      ],
      "metadata": {
        "id": "6Ywu-k3vfJue"
      }
    },
    {
      "cell_type": "markdown",
      "source": [
        "A Notebook consists of two type of cells:\n",
        "*   cell with Python code\n",
        "*   cell with text (headlines, paragraphs, lists, ...)\n",
        "\n",
        "Cells with Python code can be executed and the number in brackets indicates not only the order of cells executed, but also the successful completion.\n",
        "\n",
        "Colors are applied to code snipplets and help to understand the code better.\n"
      ],
      "metadata": {
        "id": "4aocg696rRcO"
      }
    },
    {
      "cell_type": "markdown",
      "source": [
        "To ensure proper functionality please run the following cell:"
      ],
      "metadata": {
        "id": "aSki68C5gd_-"
      }
    },
    {
      "cell_type": "code",
      "source": [
        "2+3"
      ],
      "metadata": {
        "colab": {
          "base_uri": "https://localhost:8080/"
        },
        "id": "ntgmvaJtsu8g",
        "outputId": "f034179f-ff62-4c64-f896-383fca4cb39e"
      },
      "execution_count": 1,
      "outputs": [
        {
          "output_type": "execute_result",
          "data": {
            "text/plain": [
              "5"
            ]
          },
          "metadata": {},
          "execution_count": 1
        }
      ]
    },
    {
      "cell_type": "markdown",
      "source": [
        "## 3.1 b Jupyter Notebooks"
      ],
      "metadata": {
        "id": "0zMqJlLGfVEp"
      }
    },
    {
      "cell_type": "markdown",
      "source": [
        "Basic operations and notations are very flexible and easily understandable."
      ],
      "metadata": {
        "id": "e3uVsm_4rDOK"
      }
    },
    {
      "cell_type": "code",
      "source": [
        "2+3"
      ],
      "metadata": {
        "id": "yjVof7vOZSgh",
        "colab": {
          "base_uri": "https://localhost:8080/"
        },
        "outputId": "f120bbfc-c04a-46bf-a81a-fab2f5e0c5ed"
      },
      "execution_count": 2,
      "outputs": [
        {
          "output_type": "execute_result",
          "data": {
            "text/plain": [
              "5"
            ]
          },
          "metadata": {},
          "execution_count": 2
        }
      ]
    },
    {
      "cell_type": "code",
      "source": [
        "print(2+3)"
      ],
      "metadata": {
        "id": "eudCzUppZWUB",
        "colab": {
          "base_uri": "https://localhost:8080/"
        },
        "outputId": "3cc98737-2ccf-4e68-d29d-d8c53f93c077"
      },
      "execution_count": 3,
      "outputs": [
        {
          "output_type": "stream",
          "name": "stdout",
          "text": [
            "5\n"
          ]
        }
      ]
    },
    {
      "cell_type": "code",
      "source": [
        "a=2\n",
        "b=3\n",
        "\n",
        "a+b"
      ],
      "metadata": {
        "colab": {
          "base_uri": "https://localhost:8080/"
        },
        "id": "km7ivcULq7gx",
        "outputId": "3b9248a5-122d-4e7d-b6ef-c44bab58dde1"
      },
      "execution_count": 4,
      "outputs": [
        {
          "output_type": "execute_result",
          "data": {
            "text/plain": [
              "5"
            ]
          },
          "metadata": {},
          "execution_count": 4
        }
      ]
    },
    {
      "cell_type": "code",
      "source": [
        "a=2\n",
        "b=3\n",
        "\n",
        "print(a+b)"
      ],
      "metadata": {
        "colab": {
          "base_uri": "https://localhost:8080/"
        },
        "id": "FPBSm3HUrAaz",
        "outputId": "84dbdb5e-1753-4242-bab5-d692a59e6df1"
      },
      "execution_count": 5,
      "outputs": [
        {
          "output_type": "stream",
          "name": "stdout",
          "text": [
            "5\n"
          ]
        }
      ]
    },
    {
      "cell_type": "markdown",
      "source": [
        "## 3.1c Python Libraries"
      ],
      "metadata": {
        "id": "9ZcUC4jgs33A"
      }
    },
    {
      "cell_type": "markdown",
      "source": [
        "### Example with Random Numbers"
      ],
      "metadata": {
        "id": "4XS6Now8s8nW"
      }
    },
    {
      "cell_type": "markdown",
      "source": [
        "Similar to the `=RAND()` function in Excel, you can google that the function to generate a random float between 0 and 1 in Python is `random()`.\n",
        "\n",
        "**BUT**"
      ],
      "metadata": {
        "id": "-CYbnccat3TK"
      }
    },
    {
      "cell_type": "code",
      "source": [
        "a = random()\n",
        "\n",
        "print(a)"
      ],
      "metadata": {
        "colab": {
          "base_uri": "https://localhost:8080/",
          "height": 176
        },
        "id": "Q0wFIYadtDjy",
        "outputId": "b7212a05-3ac1-4ae0-bf3e-bae6a80c7d29"
      },
      "execution_count": 6,
      "outputs": [
        {
          "output_type": "error",
          "ename": "NameError",
          "evalue": "name 'random' is not defined",
          "traceback": [
            "\u001b[0;31m---------------------------------------------------------------------------\u001b[0m",
            "\u001b[0;31mNameError\u001b[0m                                 Traceback (most recent call last)",
            "\u001b[0;32m<ipython-input-6-c4ce1e292b81>\u001b[0m in \u001b[0;36m<cell line: 1>\u001b[0;34m()\u001b[0m\n\u001b[0;32m----> 1\u001b[0;31m \u001b[0ma\u001b[0m \u001b[0;34m=\u001b[0m \u001b[0mrandom\u001b[0m\u001b[0;34m(\u001b[0m\u001b[0;34m)\u001b[0m\u001b[0;34m\u001b[0m\u001b[0;34m\u001b[0m\u001b[0m\n\u001b[0m\u001b[1;32m      2\u001b[0m \u001b[0;34m\u001b[0m\u001b[0m\n\u001b[1;32m      3\u001b[0m \u001b[0mprint\u001b[0m\u001b[0;34m(\u001b[0m\u001b[0ma\u001b[0m\u001b[0;34m)\u001b[0m\u001b[0;34m\u001b[0m\u001b[0;34m\u001b[0m\u001b[0m\n",
            "\u001b[0;31mNameError\u001b[0m: name 'random' is not defined"
          ]
        }
      ]
    },
    {
      "cell_type": "markdown",
      "source": [
        "### NumPy (for numerical computations)"
      ],
      "metadata": {
        "id": "zTXT9AVcgnqa"
      }
    },
    {
      "cell_type": "code",
      "source": [
        "import numpy as np"
      ],
      "metadata": {
        "id": "z1Hgp6WJZLyq"
      },
      "execution_count": 7,
      "outputs": []
    },
    {
      "cell_type": "markdown",
      "source": [
        "### Pandas (for data manipulation and analysis)"
      ],
      "metadata": {
        "id": "yL6lyAECgzg8"
      }
    },
    {
      "cell_type": "code",
      "source": [
        "import pandas as pd"
      ],
      "metadata": {
        "id": "j8n7y3YzZO7p"
      },
      "execution_count": 8,
      "outputs": []
    },
    {
      "cell_type": "markdown",
      "source": [
        "### Matplotlib (for data visualization)"
      ],
      "metadata": {
        "id": "_EZrnO8Og8PQ"
      }
    },
    {
      "cell_type": "code",
      "source": [
        "import matplotlib.pyplot as plt"
      ],
      "metadata": {
        "id": "vzrNgIQtZRBA"
      },
      "execution_count": 9,
      "outputs": []
    },
    {
      "cell_type": "markdown",
      "source": [
        "### Seaborn (for statistical data visualization)"
      ],
      "metadata": {
        "id": "5kvSMcU7hEVc"
      }
    },
    {
      "cell_type": "code",
      "source": [
        "import seaborn as sns"
      ],
      "metadata": {
        "id": "563bqA9yhINX"
      },
      "execution_count": 10,
      "outputs": []
    },
    {
      "cell_type": "markdown",
      "source": [
        "### Scikit-learn (for machine learning)"
      ],
      "metadata": {
        "id": "LWjMhOERhOwm"
      }
    },
    {
      "cell_type": "code",
      "source": [
        "from sklearn.model_selection import train_test_split\n",
        "from sklearn.preprocessing import StandardScaler\n",
        "from sklearn.linear_model import LinearRegression"
      ],
      "metadata": {
        "id": "31_4Yu22hP6G"
      },
      "execution_count": 11,
      "outputs": []
    },
    {
      "cell_type": "markdown",
      "source": [
        "### SciPy (for scientific and technical computing)"
      ],
      "metadata": {
        "id": "NzbnXjm8hS60"
      }
    },
    {
      "cell_type": "code",
      "source": [
        "import scipy as sp"
      ],
      "metadata": {
        "id": "BBMgg3R9hV9c"
      },
      "execution_count": 12,
      "outputs": []
    },
    {
      "cell_type": "markdown",
      "source": [
        "### Statsmodels (for statistical modeling)"
      ],
      "metadata": {
        "id": "rRPBoDLPhaaT"
      }
    },
    {
      "cell_type": "code",
      "source": [
        "import statsmodels.api as sm"
      ],
      "metadata": {
        "id": "CNvPyGFnhbmm"
      },
      "execution_count": 13,
      "outputs": []
    },
    {
      "cell_type": "markdown",
      "source": [
        "### Plotly (for interactive visualizations)"
      ],
      "metadata": {
        "id": "wFRTKpGshdpt"
      }
    },
    {
      "cell_type": "code",
      "source": [
        "import plotly.express as px"
      ],
      "metadata": {
        "id": "cSGQX420hh4k"
      },
      "execution_count": 14,
      "outputs": []
    },
    {
      "cell_type": "markdown",
      "source": [
        "### TensorFlow (for deep learning)"
      ],
      "metadata": {
        "id": "i_AHCQlThl1-"
      }
    },
    {
      "cell_type": "code",
      "source": [
        "import tensorflow as tf"
      ],
      "metadata": {
        "id": "oGlAgh4HhoOi"
      },
      "execution_count": 15,
      "outputs": []
    },
    {
      "cell_type": "markdown",
      "source": [
        "### Importing Issues in Notebooks\n",
        "Use the following code to test your notebook. It should be able to import these libraries. In case it does not work, use the following code:\n",
        "```\n",
        "import piplite\n",
        "await piplite.install('seaborn')\n",
        "import seaborn as sns\n",
        "```\n",
        "Adjust to other libraries - this is an example for seaborn which does not work properly on some platforms.\n",
        "\n",
        "\n"
      ],
      "metadata": {
        "id": "u0Vwdwg0fsEl"
      }
    }
  ]
}